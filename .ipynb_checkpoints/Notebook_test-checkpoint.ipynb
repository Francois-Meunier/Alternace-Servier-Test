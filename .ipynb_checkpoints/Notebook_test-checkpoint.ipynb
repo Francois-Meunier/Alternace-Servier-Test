{
 "cells": [
  {
   "cell_type": "markdown",
   "id": "increasing-parts",
   "metadata": {},
   "source": [
    "# Alternance Servier - Test"
   ]
  },
  {
   "cell_type": "code",
   "execution_count": 1,
   "id": "korean-mobile",
   "metadata": {},
   "outputs": [],
   "source": [
    "# imports\n",
    "import pandas as pd\n",
    "import json"
   ]
  },
  {
   "cell_type": "markdown",
   "id": "direct-footwear",
   "metadata": {},
   "source": [
    "## II ) Pyhton et data engineering"
   ]
  },
  {
   "cell_type": "code",
   "execution_count": 2,
   "id": "exempt-turtle",
   "metadata": {},
   "outputs": [],
   "source": [
    "#pubmed.to_json(r'test.json',orient='index') #la bonne manière de le mettre en JSON -> pour la fin"
   ]
  },
  {
   "cell_type": "code",
   "execution_count": 3,
   "id": "needed-paris",
   "metadata": {},
   "outputs": [],
   "source": [
    "# afficher toute la largeur des colonnes\n",
    "pd.set_option(\"max_colwidth\", None)"
   ]
  },
  {
   "cell_type": "code",
   "execution_count": 4,
   "id": "after-nothing",
   "metadata": {},
   "outputs": [],
   "source": [
    "# Lecture des CSV\n",
    "drugs = pd.read_csv(\"drugs.csv\")\n",
    "pubmed = pd.read_csv(\"pubmed.csv\")\n",
    "pubmed_json = pd.read_json('pubmed.json')\n",
    "clinical_trials = pd.read_csv(\"clinical_trials.csv\")\n",
    "# amélioration : fonction qui donne comme nom au df le nom du fichier en enlevant \".csv\" "
   ]
  },
  {
   "cell_type": "code",
   "execution_count": 5,
   "id": "alternative-ceramic",
   "metadata": {},
   "outputs": [],
   "source": [
    "# concaténation des 2 df pubmed\n",
    "frames = [pubmed,pubmed_json]\n",
    "pubmed = pd.concat(frames,ignore_index=True)"
   ]
  },
  {
   "cell_type": "code",
   "execution_count": 6,
   "id": "comfortable-throw",
   "metadata": {},
   "outputs": [],
   "source": [
    "# mise en forme des fichier : date et titre des articles"
   ]
  },
  {
   "cell_type": "code",
   "execution_count": 7,
   "id": "featured-navigator",
   "metadata": {},
   "outputs": [],
   "source": [
    "# uniformisation des dates au format Datetime\n",
    "# prend en argument le dataframe et la colonne (string) contenant la date\n",
    "def date_datetime_rename(df,col):\n",
    "    df.rename(columns={col: \"date\"}, inplace=True) #renomme la colonne en \"date\"\n",
    "    df[col] = pd.to_datetime(df[col])"
   ]
  },
  {
   "cell_type": "code",
   "execution_count": 8,
   "id": "intermediate-villa",
   "metadata": {},
   "outputs": [],
   "source": [
    "# permet de renommer les colonnes du titre de l'article et du journal\n",
    "# prend en argument le dataframe et la colonne (string) contenant le titre de l'article \n",
    "def title_rename(df,col_title, col_journal):\n",
    "    df.rename(columns={col_title: \"title\"}, inplace=True) #renomme la colonne en \"title\"\n",
    "    df.rename(columns={col_journal: \"journal\"}, inplace=True) #renomme la colonne en \"journal\""
   ]
  },
  {
   "cell_type": "code",
   "execution_count": 9,
   "id": "rural-interface",
   "metadata": {},
   "outputs": [],
   "source": [
    "# permet de mettre une chaîne de caractère en minuscule : afin d'uniformiser les mots à rechercher\n",
    "# prend en argument le dataframe et la colonne (string) à mettre en minuscule\n",
    "def string_lowercase(df,col):\n",
    "    for i in range(len(df[col])):\n",
    "        df[col][i] = df[col][i].lower()"
   ]
  },
  {
   "cell_type": "code",
   "execution_count": 10,
   "id": "adolescent-programming",
   "metadata": {},
   "outputs": [],
   "source": [
    "date_datetime_rename(pubmed,\"date\")\n",
    "date_datetime_rename(clinical_trials,\"date\")"
   ]
  },
  {
   "cell_type": "code",
   "execution_count": 11,
   "id": "activated-death",
   "metadata": {},
   "outputs": [],
   "source": [
    "title_rename(pubmed,\"title\",\"journal\")\n",
    "title_rename(pubmed_json,\"title\",\"journal\")\n",
    "title_rename(clinical_trials,\"scientific_title\",\"journal\")"
   ]
  },
  {
   "cell_type": "code",
   "execution_count": 12,
   "id": "convertible-combination",
   "metadata": {},
   "outputs": [
    {
     "name": "stderr",
     "output_type": "stream",
     "text": [
      "<ipython-input-9-8388fd501eb2>:5: SettingWithCopyWarning: \n",
      "A value is trying to be set on a copy of a slice from a DataFrame\n",
      "\n",
      "See the caveats in the documentation: https://pandas.pydata.org/pandas-docs/stable/user_guide/indexing.html#returning-a-view-versus-a-copy\n",
      "  df[col][i] = df[col][i].lower()\n"
     ]
    }
   ],
   "source": [
    "string_lowercase(drugs,\"drug\")\n",
    "string_lowercase(pubmed,\"title\")\n",
    "string_lowercase(clinical_trials,\"title\")"
   ]
  },
  {
   "cell_type": "code",
   "execution_count": 13,
   "id": "western-reward",
   "metadata": {},
   "outputs": [],
   "source": [
    "# fonction permettant de créer pour chaque ligne du fichier drug, un item dans le fichier JSON Drug_info\n",
    "# prend le nom du .csv en argument, et le nom du JSON\n",
    "\n",
    "# finalement on le fait dans un df que l'on convertira en JSON ensuite\n",
    "# on peut le mettre directement dans un JSON, mais ayant moins l'habitude de le faire, j'ai préféré procéder ainsi"
   ]
  },
  {
   "cell_type": "code",
   "execution_count": 14,
   "id": "blind-patrick",
   "metadata": {},
   "outputs": [],
   "source": [
    "cats = [pubmed, clinical_trials]"
   ]
  },
  {
   "cell_type": "code",
   "execution_count": 15,
   "id": "laughing-domestic",
   "metadata": {},
   "outputs": [],
   "source": [
    "#OK\n",
    "info = [pubmed[\"title\"],pubmed[\"journal\"],\"pubmed\"]"
   ]
  },
  {
   "cell_type": "code",
   "execution_count": 16,
   "id": "recorded-sunday",
   "metadata": {},
   "outputs": [],
   "source": [
    "#OK\n",
    "index = 0\n",
    "data = []\n",
    "for drug in drugs[\"drug\"]:\n",
    "    for art_title in info[0] :\n",
    "        if drug in art_title :\n",
    "            data.append([drug,info[2],art_title,pubmed[\"journal\"][index],pubmed[\"date\"][index]])\n",
    "    index += 1"
   ]
  },
  {
   "cell_type": "code",
   "execution_count": null,
   "id": "knowing-longitude",
   "metadata": {},
   "outputs": [],
   "source": []
  },
  {
   "cell_type": "code",
   "execution_count": 17,
   "id": "concrete-consistency",
   "metadata": {},
   "outputs": [],
   "source": [
    "#OK\n",
    "output_col = ['drug', 'category', 'title', 'journal', 'date']\n",
    "df_output = pd.DataFrame(data, columns = output_col)"
   ]
  },
  {
   "cell_type": "code",
   "execution_count": 18,
   "id": "specialized-mixer",
   "metadata": {},
   "outputs": [],
   "source": [
    "# count = 0\n",
    "# for i in range(len(drugs[\"drug\"])) :\n",
    "#     word = drugs[\"drug\"][i].lower()\n",
    "#     for j in range(len(pubmed[\"title\"])) :\n",
    "#         sentence = pubmed[\"title\"][j].lower()\n",
    "#         if word in sentence :\n",
    "#             count += 1"
   ]
  },
  {
   "cell_type": "code",
   "execution_count": null,
   "id": "monthly-classics",
   "metadata": {},
   "outputs": [],
   "source": []
  },
  {
   "cell_type": "code",
   "execution_count": null,
   "id": "super-detector",
   "metadata": {},
   "outputs": [],
   "source": []
  },
  {
   "cell_type": "code",
   "execution_count": null,
   "id": "bottom-valley",
   "metadata": {},
   "outputs": [],
   "source": [
    "# count"
   ]
  }
 ],
 "metadata": {
  "kernelspec": {
   "display_name": "Python 3",
   "language": "python",
   "name": "python3"
  },
  "language_info": {
   "codemirror_mode": {
    "name": "ipython",
    "version": 3
   },
   "file_extension": ".py",
   "mimetype": "text/x-python",
   "name": "python",
   "nbconvert_exporter": "python",
   "pygments_lexer": "ipython3",
   "version": "3.8.5"
  }
 },
 "nbformat": 4,
 "nbformat_minor": 5
}
