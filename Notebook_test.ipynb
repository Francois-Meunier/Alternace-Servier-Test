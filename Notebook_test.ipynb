{
 "cells": [
  {
   "cell_type": "markdown",
   "id": "pacific-trailer",
   "metadata": {},
   "source": [
    "# Alternance Servier - Test"
   ]
  },
  {
   "cell_type": "code",
   "execution_count": 1,
   "id": "technological-century",
   "metadata": {},
   "outputs": [],
   "source": [
    "# imports\n",
    "import pandas as pd\n",
    "import json"
   ]
  },
  {
   "cell_type": "markdown",
   "id": "broadband-fantasy",
   "metadata": {},
   "source": [
    "## II ) Pyhton et data engineering"
   ]
  },
  {
   "cell_type": "code",
   "execution_count": 2,
   "id": "willing-glory",
   "metadata": {},
   "outputs": [],
   "source": [
    "# afficher toute la largeur des colonnes\n",
    "pd.set_option(\"max_colwidth\", None)"
   ]
  },
  {
   "cell_type": "code",
   "execution_count": 3,
   "id": "posted-pricing",
   "metadata": {},
   "outputs": [],
   "source": [
    "# Lecture des CSV\n",
    "drugs = pd.read_csv(\"drugs.csv\")\n",
    "pubmed = pd.read_csv(\"pubmed.csv\")\n",
    "clinical_trials = pd.read_csv(\"clinical_trials.csv\")"
   ]
  },
  {
   "cell_type": "code",
   "execution_count": 4,
   "id": "reverse-blind",
   "metadata": {},
   "outputs": [
    {
     "data": {
      "text/html": [
       "<div>\n",
       "<style scoped>\n",
       "    .dataframe tbody tr th:only-of-type {\n",
       "        vertical-align: middle;\n",
       "    }\n",
       "\n",
       "    .dataframe tbody tr th {\n",
       "        vertical-align: top;\n",
       "    }\n",
       "\n",
       "    .dataframe thead th {\n",
       "        text-align: right;\n",
       "    }\n",
       "</style>\n",
       "<table border=\"1\" class=\"dataframe\">\n",
       "  <thead>\n",
       "    <tr style=\"text-align: right;\">\n",
       "      <th></th>\n",
       "      <th>atccode</th>\n",
       "      <th>drug</th>\n",
       "    </tr>\n",
       "  </thead>\n",
       "  <tbody>\n",
       "    <tr>\n",
       "      <th>0</th>\n",
       "      <td>A04AD</td>\n",
       "      <td>DIPHENHYDRAMINE</td>\n",
       "    </tr>\n",
       "    <tr>\n",
       "      <th>1</th>\n",
       "      <td>S03AA</td>\n",
       "      <td>TETRACYCLINE</td>\n",
       "    </tr>\n",
       "    <tr>\n",
       "      <th>2</th>\n",
       "      <td>V03AB</td>\n",
       "      <td>ETHANOL</td>\n",
       "    </tr>\n",
       "    <tr>\n",
       "      <th>3</th>\n",
       "      <td>A03BA</td>\n",
       "      <td>ATROPINE</td>\n",
       "    </tr>\n",
       "    <tr>\n",
       "      <th>4</th>\n",
       "      <td>A01AD</td>\n",
       "      <td>EPINEPHRINE</td>\n",
       "    </tr>\n",
       "    <tr>\n",
       "      <th>5</th>\n",
       "      <td>6302001</td>\n",
       "      <td>ISOPRENALINE</td>\n",
       "    </tr>\n",
       "    <tr>\n",
       "      <th>6</th>\n",
       "      <td>R01AD</td>\n",
       "      <td>BETAMETHASONE</td>\n",
       "    </tr>\n",
       "  </tbody>\n",
       "</table>\n",
       "</div>"
      ],
      "text/plain": [
       "   atccode             drug\n",
       "0    A04AD  DIPHENHYDRAMINE\n",
       "1    S03AA     TETRACYCLINE\n",
       "2    V03AB          ETHANOL\n",
       "3    A03BA         ATROPINE\n",
       "4    A01AD      EPINEPHRINE\n",
       "5  6302001     ISOPRENALINE\n",
       "6    R01AD    BETAMETHASONE"
      ]
     },
     "execution_count": 4,
     "metadata": {},
     "output_type": "execute_result"
    }
   ],
   "source": [
    "drugs"
   ]
  },
  {
   "cell_type": "code",
   "execution_count": 5,
   "id": "sensitive-robertson",
   "metadata": {},
   "outputs": [
    {
     "data": {
      "text/html": [
       "<div>\n",
       "<style scoped>\n",
       "    .dataframe tbody tr th:only-of-type {\n",
       "        vertical-align: middle;\n",
       "    }\n",
       "\n",
       "    .dataframe tbody tr th {\n",
       "        vertical-align: top;\n",
       "    }\n",
       "\n",
       "    .dataframe thead th {\n",
       "        text-align: right;\n",
       "    }\n",
       "</style>\n",
       "<table border=\"1\" class=\"dataframe\">\n",
       "  <thead>\n",
       "    <tr style=\"text-align: right;\">\n",
       "      <th></th>\n",
       "      <th>id</th>\n",
       "      <th>title</th>\n",
       "      <th>date</th>\n",
       "      <th>journal</th>\n",
       "    </tr>\n",
       "  </thead>\n",
       "  <tbody>\n",
       "    <tr>\n",
       "      <th>0</th>\n",
       "      <td>1</td>\n",
       "      <td>A 44-year-old man with erythema of the face diphenhydramine, neck, and chest, weakness, and palpitations</td>\n",
       "      <td>01/01/2019</td>\n",
       "      <td>Journal of emergency nursing</td>\n",
       "    </tr>\n",
       "    <tr>\n",
       "      <th>1</th>\n",
       "      <td>2</td>\n",
       "      <td>An evaluation of benadryl, pyribenzamine, and other so-called diphenhydramine antihistaminic drugs in the treatment of allergy.</td>\n",
       "      <td>01/01/2019</td>\n",
       "      <td>Journal of emergency nursing</td>\n",
       "    </tr>\n",
       "    <tr>\n",
       "      <th>2</th>\n",
       "      <td>3</td>\n",
       "      <td>Diphenhydramine hydrochloride helps symptoms of ciguatera fish poisoning.</td>\n",
       "      <td>02/01/2019</td>\n",
       "      <td>The Journal of pediatrics</td>\n",
       "    </tr>\n",
       "    <tr>\n",
       "      <th>3</th>\n",
       "      <td>4</td>\n",
       "      <td>Tetracycline Resistance Patterns of Lactobacillus buchneri Group Strains.</td>\n",
       "      <td>01/01/2020</td>\n",
       "      <td>Journal of food protection</td>\n",
       "    </tr>\n",
       "    <tr>\n",
       "      <th>4</th>\n",
       "      <td>5</td>\n",
       "      <td>Appositional Tetracycline bone formation rates in the Beagle.</td>\n",
       "      <td>02/01/2020</td>\n",
       "      <td>American journal of veterinary research</td>\n",
       "    </tr>\n",
       "    <tr>\n",
       "      <th>5</th>\n",
       "      <td>6</td>\n",
       "      <td>Rapid reacquisition of contextual fear following extinction in mice: effects of amount of extinction, tetracycline acute ethanol withdrawal, and ethanol intoxication.</td>\n",
       "      <td>2020-01-01</td>\n",
       "      <td>Psychopharmacology</td>\n",
       "    </tr>\n",
       "    <tr>\n",
       "      <th>6</th>\n",
       "      <td>7</td>\n",
       "      <td>The High Cost of Epinephrine Autoinjectors and Possible Alternatives.</td>\n",
       "      <td>01/02/2020</td>\n",
       "      <td>The journal of allergy and clinical immunology. In practice</td>\n",
       "    </tr>\n",
       "    <tr>\n",
       "      <th>7</th>\n",
       "      <td>8</td>\n",
       "      <td>Time to epinephrine treatment is associated with the risk of mortality in children who achieve sustained ROSC after traumatic out-of-hospital cardiac arrest.</td>\n",
       "      <td>01/03/2020</td>\n",
       "      <td>The journal of allergy and clinical immunology. In practice</td>\n",
       "    </tr>\n",
       "  </tbody>\n",
       "</table>\n",
       "</div>"
      ],
      "text/plain": [
       "   id  \\\n",
       "0   1   \n",
       "1   2   \n",
       "2   3   \n",
       "3   4   \n",
       "4   5   \n",
       "5   6   \n",
       "6   7   \n",
       "7   8   \n",
       "\n",
       "                                                                                                                                                                    title  \\\n",
       "0                                                                A 44-year-old man with erythema of the face diphenhydramine, neck, and chest, weakness, and palpitations   \n",
       "1                                         An evaluation of benadryl, pyribenzamine, and other so-called diphenhydramine antihistaminic drugs in the treatment of allergy.   \n",
       "2                                                                                               Diphenhydramine hydrochloride helps symptoms of ciguatera fish poisoning.   \n",
       "3                                                                                               Tetracycline Resistance Patterns of Lactobacillus buchneri Group Strains.   \n",
       "4                                                                                                           Appositional Tetracycline bone formation rates in the Beagle.   \n",
       "5  Rapid reacquisition of contextual fear following extinction in mice: effects of amount of extinction, tetracycline acute ethanol withdrawal, and ethanol intoxication.   \n",
       "6                                                                                                   The High Cost of Epinephrine Autoinjectors and Possible Alternatives.   \n",
       "7           Time to epinephrine treatment is associated with the risk of mortality in children who achieve sustained ROSC after traumatic out-of-hospital cardiac arrest.   \n",
       "\n",
       "         date                                                      journal  \n",
       "0  01/01/2019                                 Journal of emergency nursing  \n",
       "1  01/01/2019                                 Journal of emergency nursing  \n",
       "2  02/01/2019                                    The Journal of pediatrics  \n",
       "3  01/01/2020                                   Journal of food protection  \n",
       "4  02/01/2020                      American journal of veterinary research  \n",
       "5  2020-01-01                                           Psychopharmacology  \n",
       "6  01/02/2020  The journal of allergy and clinical immunology. In practice  \n",
       "7  01/03/2020  The journal of allergy and clinical immunology. In practice  "
      ]
     },
     "execution_count": 5,
     "metadata": {},
     "output_type": "execute_result"
    }
   ],
   "source": [
    "pubmed"
   ]
  },
  {
   "cell_type": "code",
   "execution_count": 6,
   "id": "worth-string",
   "metadata": {},
   "outputs": [
    {
     "data": {
      "text/html": [
       "<div>\n",
       "<style scoped>\n",
       "    .dataframe tbody tr th:only-of-type {\n",
       "        vertical-align: middle;\n",
       "    }\n",
       "\n",
       "    .dataframe tbody tr th {\n",
       "        vertical-align: top;\n",
       "    }\n",
       "\n",
       "    .dataframe thead th {\n",
       "        text-align: right;\n",
       "    }\n",
       "</style>\n",
       "<table border=\"1\" class=\"dataframe\">\n",
       "  <thead>\n",
       "    <tr style=\"text-align: right;\">\n",
       "      <th></th>\n",
       "      <th>id</th>\n",
       "      <th>scientific_title</th>\n",
       "      <th>date</th>\n",
       "      <th>journal</th>\n",
       "    </tr>\n",
       "  </thead>\n",
       "  <tbody>\n",
       "    <tr>\n",
       "      <th>0</th>\n",
       "      <td>NCT01967433</td>\n",
       "      <td>Use of Diphenhydramine as an Adjunctive Sedative for Colonoscopy in Patients Chronically on Opioids</td>\n",
       "      <td>1 January 2020</td>\n",
       "      <td>Journal of emergency nursing</td>\n",
       "    </tr>\n",
       "    <tr>\n",
       "      <th>1</th>\n",
       "      <td>NCT04189588</td>\n",
       "      <td>Phase 2 Study IV QUZYTTIR™ (Cetirizine Hydrochloride Injection) vs V Diphenhydramine</td>\n",
       "      <td>1 January 2020</td>\n",
       "      <td>Journal of emergency nursing</td>\n",
       "    </tr>\n",
       "    <tr>\n",
       "      <th>2</th>\n",
       "      <td>NCT04237090</td>\n",
       "      <td></td>\n",
       "      <td>1 January 2020</td>\n",
       "      <td>Journal of emergency nursing</td>\n",
       "    </tr>\n",
       "    <tr>\n",
       "      <th>3</th>\n",
       "      <td>NCT04237091</td>\n",
       "      <td>Feasibility of a Randomized Controlled Clinical Trial Comparing the Use of Cetirizine to Replace Diphenhydramine in the Prevention of Reactions Related to Paclitaxel</td>\n",
       "      <td>1 January 2020</td>\n",
       "      <td>Journal of emergency nursing</td>\n",
       "    </tr>\n",
       "    <tr>\n",
       "      <th>4</th>\n",
       "      <td>NCT04153396</td>\n",
       "      <td>Preemptive Infiltration With Betamethasone and Ropivacaine for Postoperative Pain in Laminoplasty or \\xc3\\xb1 Laminectomy</td>\n",
       "      <td>1 January 2020</td>\n",
       "      <td>Hôpitaux Universitaires de Genève</td>\n",
       "    </tr>\n",
       "    <tr>\n",
       "      <th>5</th>\n",
       "      <td>NCT03490942</td>\n",
       "      <td>Glucagon Infusion in T1D Patients With Recurrent Severe Hypoglycemia: Effects on Counter-Regulatory Responses</td>\n",
       "      <td>25/05/2020</td>\n",
       "      <td>NaN</td>\n",
       "    </tr>\n",
       "    <tr>\n",
       "      <th>6</th>\n",
       "      <td>NaN</td>\n",
       "      <td>Glucagon Infusion in T1D Patients With Recurrent Severe Hypoglycemia: Effects on Counter-Regulatory Responses</td>\n",
       "      <td>25/05/2020</td>\n",
       "      <td>Journal of emergency nursing</td>\n",
       "    </tr>\n",
       "    <tr>\n",
       "      <th>7</th>\n",
       "      <td>NCT04188184</td>\n",
       "      <td>Tranexamic Acid Versus Epinephrine During Exploratory Tympanotomy</td>\n",
       "      <td>27 April 2020</td>\n",
       "      <td>Journal of emergency nursing\\xc3\\x28</td>\n",
       "    </tr>\n",
       "  </tbody>\n",
       "</table>\n",
       "</div>"
      ],
      "text/plain": [
       "            id  \\\n",
       "0  NCT01967433   \n",
       "1  NCT04189588   \n",
       "2  NCT04237090   \n",
       "3  NCT04237091   \n",
       "4  NCT04153396   \n",
       "5  NCT03490942   \n",
       "6          NaN   \n",
       "7  NCT04188184   \n",
       "\n",
       "                                                                                                                                                        scientific_title  \\\n",
       "0                                                                    Use of Diphenhydramine as an Adjunctive Sedative for Colonoscopy in Patients Chronically on Opioids   \n",
       "1                                                                                   Phase 2 Study IV QUZYTTIR™ (Cetirizine Hydrochloride Injection) vs V Diphenhydramine   \n",
       "2                                                                                                                                                                          \n",
       "3  Feasibility of a Randomized Controlled Clinical Trial Comparing the Use of Cetirizine to Replace Diphenhydramine in the Prevention of Reactions Related to Paclitaxel   \n",
       "4                                              Preemptive Infiltration With Betamethasone and Ropivacaine for Postoperative Pain in Laminoplasty or \\xc3\\xb1 Laminectomy   \n",
       "5                                                          Glucagon Infusion in T1D Patients With Recurrent Severe Hypoglycemia: Effects on Counter-Regulatory Responses   \n",
       "6                                                          Glucagon Infusion in T1D Patients With Recurrent Severe Hypoglycemia: Effects on Counter-Regulatory Responses   \n",
       "7                                                                                                      Tranexamic Acid Versus Epinephrine During Exploratory Tympanotomy   \n",
       "\n",
       "             date                               journal  \n",
       "0  1 January 2020          Journal of emergency nursing  \n",
       "1  1 January 2020          Journal of emergency nursing  \n",
       "2  1 January 2020          Journal of emergency nursing  \n",
       "3  1 January 2020          Journal of emergency nursing  \n",
       "4  1 January 2020     Hôpitaux Universitaires de Genève  \n",
       "5      25/05/2020                                   NaN  \n",
       "6      25/05/2020          Journal of emergency nursing  \n",
       "7   27 April 2020  Journal of emergency nursing\\xc3\\x28  "
      ]
     },
     "execution_count": 6,
     "metadata": {},
     "output_type": "execute_result"
    }
   ],
   "source": [
    "clinical_trials"
   ]
  },
  {
   "cell_type": "code",
   "execution_count": 7,
   "id": "informational-latin",
   "metadata": {},
   "outputs": [],
   "source": [
    "# mise en forme des fichier : date et titre des articles"
   ]
  },
  {
   "cell_type": "code",
   "execution_count": 9,
   "id": "alone-sword",
   "metadata": {},
   "outputs": [],
   "source": [
    "#soucis rencontré pour trouver un mot dans une string : les majuscules"
   ]
  },
  {
   "cell_type": "code",
   "execution_count": 12,
   "id": "empty-invite",
   "metadata": {},
   "outputs": [],
   "source": [
    "if \"DIPHENHYDRAMINE\" in \"A 44-year-old man with erythema of the face diphenhydramine, neck, and chest, weakness, and palpitations\" :\n",
    "    print(\"ok\")"
   ]
  },
  {
   "cell_type": "code",
   "execution_count": 13,
   "id": "coastal-surrey",
   "metadata": {},
   "outputs": [
    {
     "name": "stdout",
     "output_type": "stream",
     "text": [
      "ok\n"
     ]
    }
   ],
   "source": [
    "if \"diphenhydramine\" in \"A 44-year-old man with erythema of the face diphenhydramine, neck, and chest, weakness, and palpitations\" :\n",
    "    print(\"ok\")"
   ]
  }
 ],
 "metadata": {
  "kernelspec": {
   "display_name": "Python 3",
   "language": "python",
   "name": "python3"
  },
  "language_info": {
   "codemirror_mode": {
    "name": "ipython",
    "version": 3
   },
   "file_extension": ".py",
   "mimetype": "text/x-python",
   "name": "python",
   "nbconvert_exporter": "python",
   "pygments_lexer": "ipython3",
   "version": "3.8.5"
  }
 },
 "nbformat": 4,
 "nbformat_minor": 5
}
